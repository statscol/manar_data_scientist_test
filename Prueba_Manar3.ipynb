{
  "nbformat": 4,
  "nbformat_minor": 0,
  "metadata": {
    "colab": {
      "name": "Prueba Manar3.ipynb",
      "provenance": [],
      "collapsed_sections": [],
      "toc_visible": true,
      "authorship_tag": "ABX9TyMxC79Lhs7eBiwc+wq5vKfZ",
      "include_colab_link": true
    },
    "kernelspec": {
      "name": "python3",
      "display_name": "Python 3"
    }
  },
  "cells": [
    {
      "cell_type": "markdown",
      "metadata": {
        "id": "view-in-github",
        "colab_type": "text"
      },
      "source": [
        "<a href=\"https://colab.research.google.com/github/statscol/manar_data_scientist_test/blob/master/Prueba_Manar3.ipynb\" target=\"_parent\"><img src=\"https://colab.research.google.com/assets/colab-badge.svg\" alt=\"Open In Colab\"/></a>"
      ]
    },
    {
      "cell_type": "markdown",
      "metadata": {
        "id": "coZDYnFu_vcL",
        "colab_type": "text"
      },
      "source": [
        " ![logo](https://admin.catalogodesoftware.com/UserFiles/gen_files/multimedia/imagenes/empresa/MANAR4.png)\n",
        " # Prueba Científico de Datos Manar Technologies\n",
        "\n",
        "**Hay total libertad para elegir entre R, Python u otra herramienta analítica para solucionar esta prueba**\n",
        "\n",
        "\n",
        "## 1)Supervised Learning\n",
        "\n",
        "### Los datos: Información correspondiente a enfermedades en el corazón (https://archive.ics.uci.edu/ml/datasets/Heart+Disease). **Tu objetivo es construir un modelo que permita,a partir de diferentes medidas, establecer la probabilidad de que una persona presente este tipo de problemas.** \n",
        "\n",
        "Variables:\n",
        "\n",
        "\n",
        "*   age\n",
        "*   sex\n",
        "*   chest pain type (4 values)\n",
        "*   resting blood pressure\n",
        "*   serum cholestoral in mg/dl\n",
        "*   fasting blood sugar > 120 mg/dl\n",
        "*   resting electrocardiographic results (values 0,1,2)\n",
        "*   maximum heart rate achieved\n",
        "*   exercise induced angina\n",
        "*   oldpeak = ST depression induced by exercise relative to rest the slope of the peak exercise ST segment\n",
        "*   number of major vessels (0-3) colored by flourosopy\n",
        "*   thal: 3 = normal; 6 = fixed defect; 7 = reversable defect\n",
        "*   target: 1 si tiene problemas en el corazón, 0 si no.\n"
      ]
    },
    {
      "cell_type": "markdown",
      "metadata": {
        "id": "yEBk_HIpDUFI",
        "colab_type": "text"
      },
      "source": [
        "## Entregables:\n",
        "\n",
        "Un jupyter notebook (.ipynb) o un markdown que soporte los principales hallazgos de la prueba y cada uno de los items propuestos. "
      ]
    },
    {
      "cell_type": "code",
      "metadata": {
        "id": "Wx51ftBA_uvs",
        "colab_type": "code",
        "colab": {
          "base_uri": "https://localhost:8080/",
          "height": 204
        },
        "outputId": "e11085e4-1a64-4326-fb0d-07413347e451"
      },
      "source": [
        "##Lectura de Datos\n",
        "\n",
        "import pandas as pd\n",
        "import numpy as np\n",
        "\n",
        "datos=pd.read_csv(\"https://raw.githubusercontent.com/statscol/manar_data_scientist_test/master/heart.csv\")\n",
        "datos.head()"
      ],
      "execution_count": 4,
      "outputs": [
        {
          "output_type": "execute_result",
          "data": {
            "text/html": [
              "<div>\n",
              "<style scoped>\n",
              "    .dataframe tbody tr th:only-of-type {\n",
              "        vertical-align: middle;\n",
              "    }\n",
              "\n",
              "    .dataframe tbody tr th {\n",
              "        vertical-align: top;\n",
              "    }\n",
              "\n",
              "    .dataframe thead th {\n",
              "        text-align: right;\n",
              "    }\n",
              "</style>\n",
              "<table border=\"1\" class=\"dataframe\">\n",
              "  <thead>\n",
              "    <tr style=\"text-align: right;\">\n",
              "      <th></th>\n",
              "      <th>age</th>\n",
              "      <th>sex</th>\n",
              "      <th>cp</th>\n",
              "      <th>trestbps</th>\n",
              "      <th>chol</th>\n",
              "      <th>fbs</th>\n",
              "      <th>restecg</th>\n",
              "      <th>thalach</th>\n",
              "      <th>exang</th>\n",
              "      <th>oldpeak</th>\n",
              "      <th>slope</th>\n",
              "      <th>ca</th>\n",
              "      <th>thal</th>\n",
              "      <th>target</th>\n",
              "    </tr>\n",
              "  </thead>\n",
              "  <tbody>\n",
              "    <tr>\n",
              "      <th>0</th>\n",
              "      <td>63</td>\n",
              "      <td>1</td>\n",
              "      <td>3</td>\n",
              "      <td>145</td>\n",
              "      <td>233</td>\n",
              "      <td>1</td>\n",
              "      <td>0</td>\n",
              "      <td>150</td>\n",
              "      <td>0</td>\n",
              "      <td>2.3</td>\n",
              "      <td>0</td>\n",
              "      <td>0</td>\n",
              "      <td>1</td>\n",
              "      <td>1</td>\n",
              "    </tr>\n",
              "    <tr>\n",
              "      <th>1</th>\n",
              "      <td>37</td>\n",
              "      <td>1</td>\n",
              "      <td>2</td>\n",
              "      <td>130</td>\n",
              "      <td>250</td>\n",
              "      <td>0</td>\n",
              "      <td>1</td>\n",
              "      <td>187</td>\n",
              "      <td>0</td>\n",
              "      <td>3.5</td>\n",
              "      <td>0</td>\n",
              "      <td>0</td>\n",
              "      <td>2</td>\n",
              "      <td>1</td>\n",
              "    </tr>\n",
              "    <tr>\n",
              "      <th>2</th>\n",
              "      <td>41</td>\n",
              "      <td>0</td>\n",
              "      <td>1</td>\n",
              "      <td>130</td>\n",
              "      <td>204</td>\n",
              "      <td>0</td>\n",
              "      <td>0</td>\n",
              "      <td>172</td>\n",
              "      <td>0</td>\n",
              "      <td>1.4</td>\n",
              "      <td>2</td>\n",
              "      <td>0</td>\n",
              "      <td>2</td>\n",
              "      <td>1</td>\n",
              "    </tr>\n",
              "    <tr>\n",
              "      <th>3</th>\n",
              "      <td>56</td>\n",
              "      <td>1</td>\n",
              "      <td>1</td>\n",
              "      <td>120</td>\n",
              "      <td>236</td>\n",
              "      <td>0</td>\n",
              "      <td>1</td>\n",
              "      <td>178</td>\n",
              "      <td>0</td>\n",
              "      <td>0.8</td>\n",
              "      <td>2</td>\n",
              "      <td>0</td>\n",
              "      <td>2</td>\n",
              "      <td>1</td>\n",
              "    </tr>\n",
              "    <tr>\n",
              "      <th>4</th>\n",
              "      <td>57</td>\n",
              "      <td>0</td>\n",
              "      <td>0</td>\n",
              "      <td>120</td>\n",
              "      <td>354</td>\n",
              "      <td>0</td>\n",
              "      <td>1</td>\n",
              "      <td>163</td>\n",
              "      <td>1</td>\n",
              "      <td>0.6</td>\n",
              "      <td>2</td>\n",
              "      <td>0</td>\n",
              "      <td>2</td>\n",
              "      <td>1</td>\n",
              "    </tr>\n",
              "  </tbody>\n",
              "</table>\n",
              "</div>"
            ],
            "text/plain": [
              "   age  sex  cp  trestbps  chol  fbs  ...  exang  oldpeak  slope  ca  thal  target\n",
              "0   63    1   3       145   233    1  ...      0      2.3      0   0     1       1\n",
              "1   37    1   2       130   250    0  ...      0      3.5      0   0     2       1\n",
              "2   41    0   1       130   204    0  ...      0      1.4      2   0     2       1\n",
              "3   56    1   1       120   236    0  ...      0      0.8      2   0     2       1\n",
              "4   57    0   0       120   354    0  ...      1      0.6      2   0     2       1\n",
              "\n",
              "[5 rows x 14 columns]"
            ]
          },
          "metadata": {
            "tags": []
          },
          "execution_count": 4
        }
      ]
    },
    {
      "cell_type": "code",
      "metadata": {
        "id": "4WFQuUVCJRoi",
        "colab_type": "code",
        "colab": {}
      },
      "source": [
        ""
      ],
      "execution_count": null,
      "outputs": []
    },
    {
      "cell_type": "markdown",
      "metadata": {
        "id": "dk4s1q_r_wen",
        "colab_type": "text"
      },
      "source": [
        "## Visualización y Analítica Descriptiva\n",
        "\n",
        "Explora la información, construye y formula hipótesis sobre los datos y su objetivo. ¿Qué variable tiene mayor relación con el objetivo? ¿Habrá multicolinealidad?\n"
      ]
    },
    {
      "cell_type": "code",
      "metadata": {
        "id": "MOSHLfPPDinD",
        "colab_type": "code",
        "colab": {}
      },
      "source": [
        ""
      ],
      "execution_count": null,
      "outputs": []
    },
    {
      "cell_type": "markdown",
      "metadata": {
        "id": "p92A_qJRDixV",
        "colab_type": "text"
      },
      "source": [
        "### Feature Engineering\n",
        "\n",
        "Qué podría usarse para lograr que los métodos predictivos logren detectar patrones en la información?"
      ]
    },
    {
      "cell_type": "code",
      "metadata": {
        "id": "GsGob91VD6ow",
        "colab_type": "code",
        "colab": {}
      },
      "source": [
        ""
      ],
      "execution_count": null,
      "outputs": []
    },
    {
      "cell_type": "markdown",
      "metadata": {
        "id": "Ap3UAaX4D7BK",
        "colab_type": "text"
      },
      "source": [
        "### Construcción del Modelo: \n",
        "\n",
        "Construye el modelo (fun-time)"
      ]
    },
    {
      "cell_type": "code",
      "metadata": {
        "id": "SeJJmpVRFHXn",
        "colab_type": "code",
        "colab": {}
      },
      "source": [
        ""
      ],
      "execution_count": null,
      "outputs": []
    },
    {
      "cell_type": "markdown",
      "metadata": {
        "id": "hdpH4u_fFHxD",
        "colab_type": "text"
      },
      "source": [
        "### Validación\n",
        "\n",
        "Cómo se comportó el modelo propuesto? Cómo podrías mejorar la precisión y los indicadores de desempeño del mismo? \n"
      ]
    },
    {
      "cell_type": "code",
      "metadata": {
        "id": "1byJWdNPFWJQ",
        "colab_type": "code",
        "colab": {}
      },
      "source": [
        ""
      ],
      "execution_count": null,
      "outputs": []
    },
    {
      "cell_type": "markdown",
      "metadata": {
        "id": "iuLlUvuTFWlN",
        "colab_type": "text"
      },
      "source": [
        "### Conclusiones\n",
        "\n",
        "¿Qué conclusiones se puede obtener al construir el modelo predictivo? ¿Cuáles fueron los principales hallazgos? "
      ]
    },
    {
      "cell_type": "code",
      "metadata": {
        "id": "Nk_8-UrROUb4",
        "colab_type": "code",
        "colab": {}
      },
      "source": [
        ""
      ],
      "execution_count": null,
      "outputs": []
    },
    {
      "cell_type": "markdown",
      "metadata": {
        "id": "5XOMTcHDOVBV",
        "colab_type": "text"
      },
      "source": [
        "## 2) Data Wrangling & Unsupervised Learning\n",
        "\n",
        "A continuación se tienen datos de consumo de energía en Colombia y el timestamp correspondiente. El objetivo es lograr detectar y explicar los picos de consumo, diferenciando por día de la semana, si es festivo, o lo que usted considere relevante analizar. Se desea además hacer análisis cluster por hora del día para clasificar las horas en categorías pico y valle."
      ]
    },
    {
      "cell_type": "code",
      "metadata": {
        "id": "8DIwE4yaPIb2",
        "colab_type": "code",
        "colab": {
          "base_uri": "https://localhost:8080/",
          "height": 204
        },
        "outputId": "7491cea3-6fbf-423a-955c-9cb2ccc24e56"
      },
      "source": [
        "energy=pd.read_csv(\"https://raw.githubusercontent.com/statscol/manar_data_scientist_test/master/energy_cons.csv\",sep=\";\")\n",
        "energy.head()"
      ],
      "execution_count": 7,
      "outputs": [
        {
          "output_type": "execute_result",
          "data": {
            "text/html": [
              "<div>\n",
              "<style scoped>\n",
              "    .dataframe tbody tr th:only-of-type {\n",
              "        vertical-align: middle;\n",
              "    }\n",
              "\n",
              "    .dataframe tbody tr th {\n",
              "        vertical-align: top;\n",
              "    }\n",
              "\n",
              "    .dataframe thead th {\n",
              "        text-align: right;\n",
              "    }\n",
              "</style>\n",
              "<table border=\"1\" class=\"dataframe\">\n",
              "  <thead>\n",
              "    <tr style=\"text-align: right;\">\n",
              "      <th></th>\n",
              "      <th>Time</th>\n",
              "      <th>power</th>\n",
              "    </tr>\n",
              "  </thead>\n",
              "  <tbody>\n",
              "    <tr>\n",
              "      <th>0</th>\n",
              "      <td>2013-10-11 00:00:00</td>\n",
              "      <td>8367.816250</td>\n",
              "    </tr>\n",
              "    <tr>\n",
              "      <th>1</th>\n",
              "      <td>2013-10-11 00:01:00</td>\n",
              "      <td>8287.111375</td>\n",
              "    </tr>\n",
              "    <tr>\n",
              "      <th>2</th>\n",
              "      <td>2013-10-11 00:02:00</td>\n",
              "      <td>8340.608125</td>\n",
              "    </tr>\n",
              "    <tr>\n",
              "      <th>3</th>\n",
              "      <td>2013-10-11 00:03:00</td>\n",
              "      <td>8342.061625</td>\n",
              "    </tr>\n",
              "    <tr>\n",
              "      <th>4</th>\n",
              "      <td>2013-10-11 00:04:00</td>\n",
              "      <td>8341.360375</td>\n",
              "    </tr>\n",
              "  </tbody>\n",
              "</table>\n",
              "</div>"
            ],
            "text/plain": [
              "                 Time        power\n",
              "0 2013-10-11 00:00:00  8367.816250\n",
              "1 2013-10-11 00:01:00  8287.111375\n",
              "2 2013-10-11 00:02:00  8340.608125\n",
              "3 2013-10-11 00:03:00  8342.061625\n",
              "4 2013-10-11 00:04:00  8341.360375"
            ]
          },
          "metadata": {
            "tags": []
          },
          "execution_count": 7
        }
      ]
    },
    {
      "cell_type": "code",
      "metadata": {
        "id": "PG9kiY8RTNXU",
        "colab_type": "code",
        "colab": {}
      },
      "source": [
        ""
      ],
      "execution_count": null,
      "outputs": []
    },
    {
      "cell_type": "markdown",
      "metadata": {
        "id": "E3VqsdNRTN7x",
        "colab_type": "text"
      },
      "source": [
        "### Data Exploration:\n",
        "Explora la información, realiza gráficos comparativos, pruebas de hipótesis, y lo que consideres necesario para resolver la necesidad de caracterizar los consumos de energía de forma horaria, por día de la semana u otra granularidad en el tiempo."
      ]
    },
    {
      "cell_type": "code",
      "metadata": {
        "id": "tPeJ0jftTxeP",
        "colab_type": "code",
        "colab": {}
      },
      "source": [
        ""
      ],
      "execution_count": null,
      "outputs": []
    },
    {
      "cell_type": "markdown",
      "metadata": {
        "id": "yGfzHsObTxrt",
        "colab_type": "text"
      },
      "source": [
        "### Cluster Analysis\n",
        "\n",
        "Pon a prueba tus conocimientos en análisis cluster y encuentra una partición que permita diferenciar entre las horas del día que son pico y valle. Utiliza indicadores de desempeño del método.\n",
        "\n"
      ]
    },
    {
      "cell_type": "code",
      "metadata": {
        "id": "AaTVzOSTUDAz",
        "colab_type": "code",
        "colab": {}
      },
      "source": [
        ""
      ],
      "execution_count": null,
      "outputs": []
    },
    {
      "cell_type": "markdown",
      "metadata": {
        "id": "uAkmWo-zUDfv",
        "colab_type": "text"
      },
      "source": [
        "### Conclusiones\n",
        "\n",
        "¿Qué se puede concluir de los resultados obtenidos?"
      ]
    },
    {
      "cell_type": "code",
      "metadata": {
        "id": "N0FWfZKJUGXg",
        "colab_type": "code",
        "colab": {}
      },
      "source": [
        ""
      ],
      "execution_count": null,
      "outputs": []
    },
    {
      "cell_type": "markdown",
      "metadata": {
        "id": "MKnhSustdhjA",
        "colab_type": "text"
      },
      "source": [
        "## 3) Image Processing & Classification \n",
        "¿Podría una IA detectar la diferencia entre gatos y tigres?\n",
        "\n",
        "Preparamos un repositorio con imágenes de ambas clases. El objetivo es encontrar un clasificador que pueda clasificar si una imágen contiene un gato o un tigre. Puedes encontrar el Repositorio en https://imagestestmanar.s3.us-east-2.amazonaws.com/images.zip\n",
        "\n",
        "Para ello tendrás que procesar las imágenes (se sugiere para minizar tiempos de cálculo, hacer un resize de las mismas y utilizar sólo un canal de color, es decir, pasar de RGB a escala de grises).\n",
        "\n"
      ]
    },
    {
      "cell_type": "code",
      "metadata": {
        "id": "gALkhizddgxQ",
        "colab_type": "code",
        "colab": {}
      },
      "source": [
        ""
      ],
      "execution_count": null,
      "outputs": []
    },
    {
      "cell_type": "markdown",
      "metadata": {
        "id": "yOLCu62VgAqP",
        "colab_type": "text"
      },
      "source": [
        "### Lectura de Imágenes y Procesamiento"
      ]
    },
    {
      "cell_type": "code",
      "metadata": {
        "id": "rfoU2qb2f8J4",
        "colab_type": "code",
        "colab": {}
      },
      "source": [
        ""
      ],
      "execution_count": null,
      "outputs": []
    },
    {
      "cell_type": "markdown",
      "metadata": {
        "id": "nzo5IukzgFL9",
        "colab_type": "text"
      },
      "source": [
        "### Construcción de Clasificador\n",
        "\n",
        "Para manejar imágenes puedes utilizar el método que consideres más acertado, siempre y cuando se logre el objetivo de clasificar entre gatos y leones."
      ]
    },
    {
      "cell_type": "code",
      "metadata": {
        "id": "vxW8gMvngFpY",
        "colab_type": "code",
        "colab": {}
      },
      "source": [
        ""
      ],
      "execution_count": null,
      "outputs": []
    },
    {
      "cell_type": "markdown",
      "metadata": {
        "id": "8wJRE2hPgcAW",
        "colab_type": "text"
      },
      "source": [
        "### Conclusiones\n",
        "\n",
        "¿Qué se puede concluir acerca de este clasificador?"
      ]
    },
    {
      "cell_type": "code",
      "metadata": {
        "id": "9JgeLGo3gcP3",
        "colab_type": "code",
        "colab": {}
      },
      "source": [
        ""
      ],
      "execution_count": null,
      "outputs": []
    },
    {
      "cell_type": "markdown",
      "metadata": {
        "id": "Z_xLZydGgo1T",
        "colab_type": "text"
      },
      "source": [
        ""
      ]
    }
  ]
}