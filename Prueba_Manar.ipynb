{
  "nbformat": 4,
  "nbformat_minor": 0,
  "metadata": {
    "colab": {
      "name": "Copia de Prueba Manar.ipynb",
      "provenance": [],
      "collapsed_sections": [],
      "toc_visible": true,
      "authorship_tag": "ABX9TyPI1dEKPF+IB/8pqhuDsQ/i",
      "include_colab_link": true
    },
    "kernelspec": {
      "name": "python3",
      "display_name": "Python 3"
    }
  },
  "cells": [
    {
      "cell_type": "markdown",
      "metadata": {
        "id": "view-in-github",
        "colab_type": "text"
      },
      "source": [
        "<a href=\"https://colab.research.google.com/github/statscol/manar_data_scientist_test/blob/master/Prueba_Manar.ipynb\" target=\"_parent\"><img src=\"https://colab.research.google.com/assets/colab-badge.svg\" alt=\"Open In Colab\"/></a>"
      ]
    },
    {
      "cell_type": "markdown",
      "metadata": {
        "id": "coZDYnFu_vcL",
        "colab_type": "text"
      },
      "source": [
        " ![logo](https://admin.catalogodesoftware.com/UserFiles/gen_files/multimedia/imagenes/empresa/MANAR4.png)\n",
        " ## Prueba Científico de Datos Manar Technologies\n",
        "### Los datos: Información correspondiente a enfermedades en el corazón (https://archive.ics.uci.edu/ml/datasets/Heart+Disease). **Tu objetivo es construir un modelo que permita,a partir de diferentes medidas, establecer la probabilidad de que una persona presente este tipo de problemas.** \n",
        "\n",
        "Variables:\n",
        "\n",
        "\n",
        "\n",
        "*   age\n",
        "*   sex\n",
        "*   chest pain type (4 values)\n",
        "*   resting blood pressure\n",
        "*   serum cholestoral in mg/dl\n",
        "*   fasting blood sugar > 120 mg/dl\n",
        "*   resting electrocardiographic results (values 0,1,2)\n",
        "*   maximum heart rate achieved\n",
        "*   exercise induced angina\n",
        "*   oldpeak = ST depression induced by exercise relative to rest the slope of the peak exercise ST segment\n",
        "*   number of major vessels (0-3) colored by flourosopy\n",
        "*   thal: 3 = normal; 6 = fixed defect; 7 = reversable defect\n",
        "*   target: 1 si tiene problemas en el corazón, 0 si no.\n"
      ]
    },
    {
      "cell_type": "markdown",
      "metadata": {
        "id": "yEBk_HIpDUFI",
        "colab_type": "text"
      },
      "source": [
        "## Entregables:\n",
        "\n",
        "Un jupyter notebook (.ipynb) o un markdown que soporte los principales hallazgos de la prueba y cada uno de los items propuestos. "
      ]
    },
    {
      "cell_type": "code",
      "metadata": {
        "id": "Wx51ftBA_uvs",
        "colab_type": "code",
        "colab": {
          "base_uri": "https://localhost:8080/",
          "height": 204
        },
        "outputId": "e11085e4-1a64-4326-fb0d-07413347e451"
      },
      "source": [
        "##Lectura de Datos\n",
        "\n",
        "import pandas as pd\n",
        "import numpy as np\n",
        "\n",
        "datos=pd.read_csv(\"https://raw.githubusercontent.com/statscol/manar_data_scientist_test/master/heart.csv\")\n",
        "datos.head()"
      ],
      "execution_count": null,
      "outputs": [
        {
          "output_type": "execute_result",
          "data": {
            "text/html": [
              "<div>\n",
              "<style scoped>\n",
              "    .dataframe tbody tr th:only-of-type {\n",
              "        vertical-align: middle;\n",
              "    }\n",
              "\n",
              "    .dataframe tbody tr th {\n",
              "        vertical-align: top;\n",
              "    }\n",
              "\n",
              "    .dataframe thead th {\n",
              "        text-align: right;\n",
              "    }\n",
              "</style>\n",
              "<table border=\"1\" class=\"dataframe\">\n",
              "  <thead>\n",
              "    <tr style=\"text-align: right;\">\n",
              "      <th></th>\n",
              "      <th>age</th>\n",
              "      <th>sex</th>\n",
              "      <th>cp</th>\n",
              "      <th>trestbps</th>\n",
              "      <th>chol</th>\n",
              "      <th>fbs</th>\n",
              "      <th>restecg</th>\n",
              "      <th>thalach</th>\n",
              "      <th>exang</th>\n",
              "      <th>oldpeak</th>\n",
              "      <th>slope</th>\n",
              "      <th>ca</th>\n",
              "      <th>thal</th>\n",
              "      <th>target</th>\n",
              "    </tr>\n",
              "  </thead>\n",
              "  <tbody>\n",
              "    <tr>\n",
              "      <th>0</th>\n",
              "      <td>63</td>\n",
              "      <td>1</td>\n",
              "      <td>3</td>\n",
              "      <td>145</td>\n",
              "      <td>233</td>\n",
              "      <td>1</td>\n",
              "      <td>0</td>\n",
              "      <td>150</td>\n",
              "      <td>0</td>\n",
              "      <td>2.3</td>\n",
              "      <td>0</td>\n",
              "      <td>0</td>\n",
              "      <td>1</td>\n",
              "      <td>1</td>\n",
              "    </tr>\n",
              "    <tr>\n",
              "      <th>1</th>\n",
              "      <td>37</td>\n",
              "      <td>1</td>\n",
              "      <td>2</td>\n",
              "      <td>130</td>\n",
              "      <td>250</td>\n",
              "      <td>0</td>\n",
              "      <td>1</td>\n",
              "      <td>187</td>\n",
              "      <td>0</td>\n",
              "      <td>3.5</td>\n",
              "      <td>0</td>\n",
              "      <td>0</td>\n",
              "      <td>2</td>\n",
              "      <td>1</td>\n",
              "    </tr>\n",
              "    <tr>\n",
              "      <th>2</th>\n",
              "      <td>41</td>\n",
              "      <td>0</td>\n",
              "      <td>1</td>\n",
              "      <td>130</td>\n",
              "      <td>204</td>\n",
              "      <td>0</td>\n",
              "      <td>0</td>\n",
              "      <td>172</td>\n",
              "      <td>0</td>\n",
              "      <td>1.4</td>\n",
              "      <td>2</td>\n",
              "      <td>0</td>\n",
              "      <td>2</td>\n",
              "      <td>1</td>\n",
              "    </tr>\n",
              "    <tr>\n",
              "      <th>3</th>\n",
              "      <td>56</td>\n",
              "      <td>1</td>\n",
              "      <td>1</td>\n",
              "      <td>120</td>\n",
              "      <td>236</td>\n",
              "      <td>0</td>\n",
              "      <td>1</td>\n",
              "      <td>178</td>\n",
              "      <td>0</td>\n",
              "      <td>0.8</td>\n",
              "      <td>2</td>\n",
              "      <td>0</td>\n",
              "      <td>2</td>\n",
              "      <td>1</td>\n",
              "    </tr>\n",
              "    <tr>\n",
              "      <th>4</th>\n",
              "      <td>57</td>\n",
              "      <td>0</td>\n",
              "      <td>0</td>\n",
              "      <td>120</td>\n",
              "      <td>354</td>\n",
              "      <td>0</td>\n",
              "      <td>1</td>\n",
              "      <td>163</td>\n",
              "      <td>1</td>\n",
              "      <td>0.6</td>\n",
              "      <td>2</td>\n",
              "      <td>0</td>\n",
              "      <td>2</td>\n",
              "      <td>1</td>\n",
              "    </tr>\n",
              "  </tbody>\n",
              "</table>\n",
              "</div>"
            ],
            "text/plain": [
              "   age  sex  cp  trestbps  chol  fbs  ...  exang  oldpeak  slope  ca  thal  target\n",
              "0   63    1   3       145   233    1  ...      0      2.3      0   0     1       1\n",
              "1   37    1   2       130   250    0  ...      0      3.5      0   0     2       1\n",
              "2   41    0   1       130   204    0  ...      0      1.4      2   0     2       1\n",
              "3   56    1   1       120   236    0  ...      0      0.8      2   0     2       1\n",
              "4   57    0   0       120   354    0  ...      1      0.6      2   0     2       1\n",
              "\n",
              "[5 rows x 14 columns]"
            ]
          },
          "metadata": {
            "tags": []
          },
          "execution_count": 4
        }
      ]
    },
    {
      "cell_type": "code",
      "metadata": {
        "id": "4WFQuUVCJRoi",
        "colab_type": "code",
        "colab": {}
      },
      "source": [
        "!"
      ],
      "execution_count": null,
      "outputs": []
    },
    {
      "cell_type": "markdown",
      "metadata": {
        "id": "dk4s1q_r_wen",
        "colab_type": "text"
      },
      "source": [
        "## 1) Visualización y Analítica Descriptiva\n",
        "\n",
        "Explora la información, construye y formula hipótesis sobre los datos y su objetivo. ¿Qué variable tiene mayor relación con el objetivo? ¿Habrá multicolinealidad?\n"
      ]
    },
    {
      "cell_type": "code",
      "metadata": {
        "id": "MOSHLfPPDinD",
        "colab_type": "code",
        "colab": {}
      },
      "source": [
        ""
      ],
      "execution_count": null,
      "outputs": []
    },
    {
      "cell_type": "markdown",
      "metadata": {
        "id": "p92A_qJRDixV",
        "colab_type": "text"
      },
      "source": [
        "### 2) Feature Engineering\n",
        "\n",
        "Qué podría usarse para lograr que los métodos predictivos logren detectar patrones en la información?"
      ]
    },
    {
      "cell_type": "code",
      "metadata": {
        "id": "GsGob91VD6ow",
        "colab_type": "code",
        "colab": {}
      },
      "source": [
        ""
      ],
      "execution_count": null,
      "outputs": []
    },
    {
      "cell_type": "markdown",
      "metadata": {
        "id": "Ap3UAaX4D7BK",
        "colab_type": "text"
      },
      "source": [
        "### 3) Construcción del Modelo: \n",
        "\n",
        "Construye el modelo (fun-time)"
      ]
    },
    {
      "cell_type": "code",
      "metadata": {
        "id": "SeJJmpVRFHXn",
        "colab_type": "code",
        "colab": {}
      },
      "source": [
        ""
      ],
      "execution_count": null,
      "outputs": []
    },
    {
      "cell_type": "markdown",
      "metadata": {
        "id": "FE7D2-cdFGny",
        "colab_type": "text"
      },
      "source": [
        ""
      ]
    },
    {
      "cell_type": "markdown",
      "metadata": {
        "id": "hdpH4u_fFHxD",
        "colab_type": "text"
      },
      "source": [
        "### 4) Validación\n",
        "\n",
        "Cómo se comportó el modelo propuesto? Cómo podrías mejorar la precisión y los indicadores de desempeño del mismo? \n"
      ]
    },
    {
      "cell_type": "code",
      "metadata": {
        "id": "1byJWdNPFWJQ",
        "colab_type": "code",
        "colab": {}
      },
      "source": [
        ""
      ],
      "execution_count": null,
      "outputs": []
    },
    {
      "cell_type": "markdown",
      "metadata": {
        "id": "iuLlUvuTFWlN",
        "colab_type": "text"
      },
      "source": [
        "### 5) Conclusiones\n",
        "\n",
        "¿Qué conclusiones se puede obtener al construir el modelo predictivo? ¿Cuáles fueron los principales hallazgos? "
      ]
    },
    {
      "cell_type": "markdown",
      "metadata": {
        "id": "iC9Ze3bAXl3J",
        "colab_type": "text"
      },
      "source": [
        "## Estadística Aplicada\n",
        "\n",
        "Una gran retail en Colombia requiere analizar el problema de atención en las cajas. Normalmente pueden presentarse largas filas en una hora determinada del día en una caja, mientras que en otras estas se encuentras parcialmente vacías. Por tanto, se requiere establecer el número óptimo de cajas a tener al inicio de cada hora. A continuación se muestra la recolección de datos en un día particular a las 10 am donde se inició con 4 cajas para pago.\n",
        "\n",
        "![metodos.png](data:image/png;base64,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)\n"
      ]
    },
    {
      "cell_type": "markdown",
      "metadata": {
        "id": "of8vaj8xFgGp",
        "colab_type": "text"
      },
      "source": [
        "Para ello se requiere entender el problema desde el enfoque estadístico, respondiendo las siguientes preguntas: \n",
        "\n",
        "\n",
        "### 1. ¿A qué distribución de probabilidad se podría asociar el número de clientes que pasan por caja en una hora? justifique.\n",
        "### 2. Cómo mediría, para una hora determinada, si el número de cajas registradoras al iniciar la hora fue el adecuado? Proponga un indicador.\n",
        "### 3. Cómo crearía una distribución empírica de probabilidad que permita establecer, P(A) dado que A=\"El número de cajas iniciales fue adecuado\""
      ]
    }
  ]
}