{
  "nbformat": 4,
  "nbformat_minor": 0,
  "metadata": {
    "colab": {
      "name": "Prueba Manar.ipynb",
      "provenance": [],
      "collapsed_sections": [],
      "toc_visible": true,
      "authorship_tag": "ABX9TyN5uRjthJn4JuwzdYO+pPdQ",
      "include_colab_link": true
    },
    "kernelspec": {
      "name": "python3",
      "display_name": "Python 3"
    }
  },
  "cells": [
    {
      "cell_type": "markdown",
      "metadata": {
        "id": "view-in-github",
        "colab_type": "text"
      },
      "source": [
        "<a href=\"https://colab.research.google.com/github/statscol/manar_data_scientist_test/blob/master/Prueba_Manar.ipynb\" target=\"_parent\"><img src=\"https://colab.research.google.com/assets/colab-badge.svg\" alt=\"Open In Colab\"/></a>"
      ]
    },
    {
      "cell_type": "markdown",
      "metadata": {
        "id": "coZDYnFu_vcL",
        "colab_type": "text"
      },
      "source": [
        " ![logo](https://admin.catalogodesoftware.com/UserFiles/gen_files/multimedia/imagenes/empresa/MANAR4.png)\n",
        " ## Prueba Científico de Datos Manar Technologies\n",
        "### Los datos: Información correspondiente a enfermedades en el corazón (https://archive.ics.uci.edu/ml/datasets/Heart+Disease). **Tu objetivo es construir un modelo que permita,a partir de diferentes medidas, establecer la probabilidad de que una persona presente este tipo de problemas.** \n",
        "\n",
        "Variables:\n",
        "\n",
        "\n",
        "\n",
        "*   age\n",
        "*   sex\n",
        "*   chest pain type (4 values)\n",
        "*   resting blood pressure\n",
        "*   serum cholestoral in mg/dl\n",
        "*   fasting blood sugar > 120 mg/dl\n",
        "*   resting electrocardiographic results (values 0,1,2)\n",
        "*   maximum heart rate achieved\n",
        "*   exercise induced angina\n",
        "*   oldpeak = ST depression induced by exercise relative to rest the slope of the peak exercise ST segment\n",
        "*   number of major vessels (0-3) colored by flourosopy\n",
        "*   thal: 3 = normal; 6 = fixed defect; 7 = reversable defect\n",
        "*   target: 1 si tiene problemas en el corazón, 0 si no.\n"
      ]
    },
    {
      "cell_type": "markdown",
      "metadata": {
        "id": "yEBk_HIpDUFI",
        "colab_type": "text"
      },
      "source": [
        "## Entregables:\n",
        "\n",
        "Un jupyter notebook (.ipynb) o un markdown que soporte los principales hallazgos de la prueba y cada uno de los items propuestos. "
      ]
    },
    {
      "cell_type": "code",
      "metadata": {
        "id": "Wx51ftBA_uvs",
        "colab_type": "code",
        "colab": {
          "base_uri": "https://localhost:8080/",
          "height": 204
        },
        "outputId": "e11085e4-1a64-4326-fb0d-07413347e451"
      },
      "source": [
        "##Lectura de Datos\n",
        "\n",
        "import pandas as pd\n",
        "import numpy as np\n",
        "\n",
        "datos=pd.read_csv(\"https://raw.githubusercontent.com/statscol/manar_data_scientist_test/master/heart.csv\")\n",
        "datos.head()"
      ],
      "execution_count": 4,
      "outputs": [
        {
          "output_type": "execute_result",
          "data": {
            "text/html": [
              "<div>\n",
              "<style scoped>\n",
              "    .dataframe tbody tr th:only-of-type {\n",
              "        vertical-align: middle;\n",
              "    }\n",
              "\n",
              "    .dataframe tbody tr th {\n",
              "        vertical-align: top;\n",
              "    }\n",
              "\n",
              "    .dataframe thead th {\n",
              "        text-align: right;\n",
              "    }\n",
              "</style>\n",
              "<table border=\"1\" class=\"dataframe\">\n",
              "  <thead>\n",
              "    <tr style=\"text-align: right;\">\n",
              "      <th></th>\n",
              "      <th>age</th>\n",
              "      <th>sex</th>\n",
              "      <th>cp</th>\n",
              "      <th>trestbps</th>\n",
              "      <th>chol</th>\n",
              "      <th>fbs</th>\n",
              "      <th>restecg</th>\n",
              "      <th>thalach</th>\n",
              "      <th>exang</th>\n",
              "      <th>oldpeak</th>\n",
              "      <th>slope</th>\n",
              "      <th>ca</th>\n",
              "      <th>thal</th>\n",
              "      <th>target</th>\n",
              "    </tr>\n",
              "  </thead>\n",
              "  <tbody>\n",
              "    <tr>\n",
              "      <th>0</th>\n",
              "      <td>63</td>\n",
              "      <td>1</td>\n",
              "      <td>3</td>\n",
              "      <td>145</td>\n",
              "      <td>233</td>\n",
              "      <td>1</td>\n",
              "      <td>0</td>\n",
              "      <td>150</td>\n",
              "      <td>0</td>\n",
              "      <td>2.3</td>\n",
              "      <td>0</td>\n",
              "      <td>0</td>\n",
              "      <td>1</td>\n",
              "      <td>1</td>\n",
              "    </tr>\n",
              "    <tr>\n",
              "      <th>1</th>\n",
              "      <td>37</td>\n",
              "      <td>1</td>\n",
              "      <td>2</td>\n",
              "      <td>130</td>\n",
              "      <td>250</td>\n",
              "      <td>0</td>\n",
              "      <td>1</td>\n",
              "      <td>187</td>\n",
              "      <td>0</td>\n",
              "      <td>3.5</td>\n",
              "      <td>0</td>\n",
              "      <td>0</td>\n",
              "      <td>2</td>\n",
              "      <td>1</td>\n",
              "    </tr>\n",
              "    <tr>\n",
              "      <th>2</th>\n",
              "      <td>41</td>\n",
              "      <td>0</td>\n",
              "      <td>1</td>\n",
              "      <td>130</td>\n",
              "      <td>204</td>\n",
              "      <td>0</td>\n",
              "      <td>0</td>\n",
              "      <td>172</td>\n",
              "      <td>0</td>\n",
              "      <td>1.4</td>\n",
              "      <td>2</td>\n",
              "      <td>0</td>\n",
              "      <td>2</td>\n",
              "      <td>1</td>\n",
              "    </tr>\n",
              "    <tr>\n",
              "      <th>3</th>\n",
              "      <td>56</td>\n",
              "      <td>1</td>\n",
              "      <td>1</td>\n",
              "      <td>120</td>\n",
              "      <td>236</td>\n",
              "      <td>0</td>\n",
              "      <td>1</td>\n",
              "      <td>178</td>\n",
              "      <td>0</td>\n",
              "      <td>0.8</td>\n",
              "      <td>2</td>\n",
              "      <td>0</td>\n",
              "      <td>2</td>\n",
              "      <td>1</td>\n",
              "    </tr>\n",
              "    <tr>\n",
              "      <th>4</th>\n",
              "      <td>57</td>\n",
              "      <td>0</td>\n",
              "      <td>0</td>\n",
              "      <td>120</td>\n",
              "      <td>354</td>\n",
              "      <td>0</td>\n",
              "      <td>1</td>\n",
              "      <td>163</td>\n",
              "      <td>1</td>\n",
              "      <td>0.6</td>\n",
              "      <td>2</td>\n",
              "      <td>0</td>\n",
              "      <td>2</td>\n",
              "      <td>1</td>\n",
              "    </tr>\n",
              "  </tbody>\n",
              "</table>\n",
              "</div>"
            ],
            "text/plain": [
              "   age  sex  cp  trestbps  chol  fbs  ...  exang  oldpeak  slope  ca  thal  target\n",
              "0   63    1   3       145   233    1  ...      0      2.3      0   0     1       1\n",
              "1   37    1   2       130   250    0  ...      0      3.5      0   0     2       1\n",
              "2   41    0   1       130   204    0  ...      0      1.4      2   0     2       1\n",
              "3   56    1   1       120   236    0  ...      0      0.8      2   0     2       1\n",
              "4   57    0   0       120   354    0  ...      1      0.6      2   0     2       1\n",
              "\n",
              "[5 rows x 14 columns]"
            ]
          },
          "metadata": {
            "tags": []
          },
          "execution_count": 4
        }
      ]
    },
    {
      "cell_type": "code",
      "metadata": {
        "id": "4WFQuUVCJRoi",
        "colab_type": "code",
        "colab": {}
      },
      "source": [
        "!"
      ],
      "execution_count": null,
      "outputs": []
    },
    {
      "cell_type": "markdown",
      "metadata": {
        "id": "dk4s1q_r_wen",
        "colab_type": "text"
      },
      "source": [
        "## 1) Visualización y Analítica Descriptiva\n",
        "\n",
        "Explora la información, construye y formula hipótesis sobre los datos y su objetivo. ¿Qué variable tiene mayor relación con el objetivo? ¿Habrá multicolinealidad?\n"
      ]
    },
    {
      "cell_type": "code",
      "metadata": {
        "id": "MOSHLfPPDinD",
        "colab_type": "code",
        "colab": {}
      },
      "source": [
        ""
      ],
      "execution_count": null,
      "outputs": []
    },
    {
      "cell_type": "markdown",
      "metadata": {
        "id": "p92A_qJRDixV",
        "colab_type": "text"
      },
      "source": [
        "### 2) Feature Engineering\n",
        "\n",
        "Qué podría usarse para lograr que los métodos predictivos logren detectar patrones en la información?"
      ]
    },
    {
      "cell_type": "code",
      "metadata": {
        "id": "GsGob91VD6ow",
        "colab_type": "code",
        "colab": {}
      },
      "source": [
        ""
      ],
      "execution_count": null,
      "outputs": []
    },
    {
      "cell_type": "markdown",
      "metadata": {
        "id": "Ap3UAaX4D7BK",
        "colab_type": "text"
      },
      "source": [
        "### 3) Construcción del Modelo: \n",
        "\n",
        "Construye el modelo (fun-time)"
      ]
    },
    {
      "cell_type": "code",
      "metadata": {
        "id": "SeJJmpVRFHXn",
        "colab_type": "code",
        "colab": {}
      },
      "source": [
        ""
      ],
      "execution_count": null,
      "outputs": []
    },
    {
      "cell_type": "markdown",
      "metadata": {
        "id": "FE7D2-cdFGny",
        "colab_type": "text"
      },
      "source": [
        ""
      ]
    },
    {
      "cell_type": "markdown",
      "metadata": {
        "id": "hdpH4u_fFHxD",
        "colab_type": "text"
      },
      "source": [
        "### 4) Validación\n",
        "\n",
        "Cómo se comportó el modelo propuesto? Cómo podrías mejorar la precisión y los indicadores de desempeño del mismo? \n"
      ]
    },
    {
      "cell_type": "code",
      "metadata": {
        "id": "1byJWdNPFWJQ",
        "colab_type": "code",
        "colab": {}
      },
      "source": [
        ""
      ],
      "execution_count": null,
      "outputs": []
    },
    {
      "cell_type": "markdown",
      "metadata": {
        "id": "iuLlUvuTFWlN",
        "colab_type": "text"
      },
      "source": [
        "5) Conclusiones\n",
        "\n",
        "¿Qué conclusiones se puede obtener al construir el modelo predictivo? ¿Cuáles fueron los principales hallazgos? "
      ]
    },
    {
      "cell_type": "markdown",
      "metadata": {
        "id": "of8vaj8xFgGp",
        "colab_type": "text"
      },
      "source": [
        ""
      ]
    }
  ]
}